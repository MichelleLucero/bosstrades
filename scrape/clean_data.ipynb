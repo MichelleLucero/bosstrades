{
 "metadata": {
  "language_info": {
   "codemirror_mode": {
    "name": "ipython",
    "version": 3
   },
   "file_extension": ".py",
   "mimetype": "text/x-python",
   "name": "python",
   "nbconvert_exporter": "python",
   "pygments_lexer": "ipython3",
   "version": "3.9.2"
  },
  "orig_nbformat": 4,
  "kernelspec": {
   "name": "python3",
   "display_name": "Python 3.9.2 64-bit"
  },
  "interpreter": {
   "hash": "6922a30d38f39c90ee963eef6bbc75166587c8bd1561e291414804891fca21e7"
  }
 },
 "nbformat": 4,
 "nbformat_minor": 2,
 "cells": [
  {
   "cell_type": "code",
   "execution_count": 3,
   "metadata": {},
   "outputs": [],
   "source": [
    "import pandas as pd"
   ]
  },
  {
   "cell_type": "code",
   "execution_count": 4,
   "metadata": {},
   "outputs": [],
   "source": [
    "df = pd.read_csv('InsideTransactionsDF.csv')"
   ]
  },
  {
   "cell_type": "code",
   "execution_count": 5,
   "metadata": {},
   "outputs": [],
   "source": [
    "df['ticker'] = df['ticker'].str.strip()"
   ]
  },
  {
   "cell_type": "code",
   "execution_count": 6,
   "metadata": {},
   "outputs": [
    {
     "output_type": "execute_result",
     "data": {
      "text/plain": [
       "(714, 13)"
      ]
     },
     "metadata": {},
     "execution_count": 6
    }
   ],
   "source": [
    "df = df[df['Date of Trans'].notna()]\n",
    "df = df[df['Adq or Disp'].notna()]\n",
    "df = df.drop(['empty','Deemed Execution Day'],axis=1)\n",
    "df.shape"
   ]
  },
  {
   "cell_type": "code",
   "execution_count": 7,
   "metadata": {},
   "outputs": [
    {
     "output_type": "execute_result",
     "data": {
      "text/plain": [
       "     placeholder                 Title Date of Trans Transaction Code  Amount  \\\n",
       "0              0          Common Stock    07/07/2021             J(1)    9095   \n",
       "1              0          Common Stock    07/07/2021                F  924(1)   \n",
       "2              0  Class A Common Stock    07/06/2021                P   29999   \n",
       "3              1  Class A Common Stock    07/06/2021                P    1333   \n",
       "4              2  Class A Common Stock    07/06/2021                P   24344   \n",
       "..           ...                   ...           ...              ...     ...   \n",
       "834            8  Class A Common Stock    07/02/2021             J(1)  300000   \n",
       "835            9  Class A Common Stock    07/02/2021                C  201176   \n",
       "836            0         Common Shares    07/06/2021             A(1)   299.0   \n",
       "839            1          Common Stock    07/06/2021             S(1)   400.0   \n",
       "840            2          Common Stock    07/06/2021             S(1)   400.0   \n",
       "\n",
       "    Adq or Disp      Price Shares Owned after Trans  \\\n",
       "0             A       $1.3                   133319   \n",
       "1             D     $37.94                    39666   \n",
       "2             A  $33.77(2)                  3636147   \n",
       "3             A  $33.77(2)                  3637480   \n",
       "4             A  $34.29(3)                  3661824   \n",
       "..          ...        ...                      ...   \n",
       "834           A        (1)                   300000   \n",
       "835           A        (3)                   201176   \n",
       "836           A     $29.49                    10770   \n",
       "839           D       $275                    11314   \n",
       "840           D       $275                    11314   \n",
       "\n",
       "    Direct or Indirect Ownershipt                Nature of Ind Ownershipt  \\\n",
       "0                               D                                     NaN   \n",
       "1                               D                                     NaN   \n",
       "2                               I  By Abdiel Qualified Master Fund, LP(1)   \n",
       "3                               I                By Abdiel Capital, LP(1)   \n",
       "4                               I  By Abdiel Qualified Master Fund, LP(1)   \n",
       "..                            ...                                     ...   \n",
       "834                             I    Held by the Zuriff Family 2020 Trust   \n",
       "835                             I                 Held by ZFI Capital,LP.   \n",
       "836                             D                                     NaN   \n",
       "839                             I                             By Trust(2)   \n",
       "840                             I                             By Trust(2)   \n",
       "\n",
       "                           position                      name_person ticker  \n",
       "0                               NaN               PORCELAIN MICHAEL    AIRI  \n",
       "1     Chief Accounting Officer & VP                   BROWN GARRARD    AVID  \n",
       "2                               NaN  Abdiel Capital Management, LLC    CRCT  \n",
       "3                               NaN  Abdiel Capital Management, LLC    CRCT  \n",
       "4                               NaN  Abdiel Capital Management, LLC    CRCT  \n",
       "..                              ...                              ...    ...  \n",
       "834          Chief Strategy Officer                 Zuriff Laurence    XMTR  \n",
       "835          Chief Strategy Officer                 Zuriff Laurence    XMTR  \n",
       "836         Chief Financial Officer                  Klompas Neil A    ZYME  \n",
       "839                             NaN            van Veenendaal Frank    COUP  \n",
       "840                             NaN            van Veenendaal Frank    COUP  \n",
       "\n",
       "[714 rows x 13 columns]"
      ],
      "text/html": "<div>\n<style scoped>\n    .dataframe tbody tr th:only-of-type {\n        vertical-align: middle;\n    }\n\n    .dataframe tbody tr th {\n        vertical-align: top;\n    }\n\n    .dataframe thead th {\n        text-align: right;\n    }\n</style>\n<table border=\"1\" class=\"dataframe\">\n  <thead>\n    <tr style=\"text-align: right;\">\n      <th></th>\n      <th>placeholder</th>\n      <th>Title</th>\n      <th>Date of Trans</th>\n      <th>Transaction Code</th>\n      <th>Amount</th>\n      <th>Adq or Disp</th>\n      <th>Price</th>\n      <th>Shares Owned after Trans</th>\n      <th>Direct or Indirect Ownershipt</th>\n      <th>Nature of Ind Ownershipt</th>\n      <th>position</th>\n      <th>name_person</th>\n      <th>ticker</th>\n    </tr>\n  </thead>\n  <tbody>\n    <tr>\n      <th>0</th>\n      <td>0</td>\n      <td>Common Stock</td>\n      <td>07/07/2021</td>\n      <td>J(1)</td>\n      <td>9095</td>\n      <td>A</td>\n      <td>$1.3</td>\n      <td>133319</td>\n      <td>D</td>\n      <td>NaN</td>\n      <td>NaN</td>\n      <td>PORCELAIN MICHAEL</td>\n      <td>AIRI</td>\n    </tr>\n    <tr>\n      <th>1</th>\n      <td>0</td>\n      <td>Common Stock</td>\n      <td>07/07/2021</td>\n      <td>F</td>\n      <td>924(1)</td>\n      <td>D</td>\n      <td>$37.94</td>\n      <td>39666</td>\n      <td>D</td>\n      <td>NaN</td>\n      <td>Chief Accounting Officer &amp; VP</td>\n      <td>BROWN GARRARD</td>\n      <td>AVID</td>\n    </tr>\n    <tr>\n      <th>2</th>\n      <td>0</td>\n      <td>Class A Common Stock</td>\n      <td>07/06/2021</td>\n      <td>P</td>\n      <td>29999</td>\n      <td>A</td>\n      <td>$33.77(2)</td>\n      <td>3636147</td>\n      <td>I</td>\n      <td>By Abdiel Qualified Master Fund, LP(1)</td>\n      <td>NaN</td>\n      <td>Abdiel Capital Management, LLC</td>\n      <td>CRCT</td>\n    </tr>\n    <tr>\n      <th>3</th>\n      <td>1</td>\n      <td>Class A Common Stock</td>\n      <td>07/06/2021</td>\n      <td>P</td>\n      <td>1333</td>\n      <td>A</td>\n      <td>$33.77(2)</td>\n      <td>3637480</td>\n      <td>I</td>\n      <td>By Abdiel Capital, LP(1)</td>\n      <td>NaN</td>\n      <td>Abdiel Capital Management, LLC</td>\n      <td>CRCT</td>\n    </tr>\n    <tr>\n      <th>4</th>\n      <td>2</td>\n      <td>Class A Common Stock</td>\n      <td>07/06/2021</td>\n      <td>P</td>\n      <td>24344</td>\n      <td>A</td>\n      <td>$34.29(3)</td>\n      <td>3661824</td>\n      <td>I</td>\n      <td>By Abdiel Qualified Master Fund, LP(1)</td>\n      <td>NaN</td>\n      <td>Abdiel Capital Management, LLC</td>\n      <td>CRCT</td>\n    </tr>\n    <tr>\n      <th>...</th>\n      <td>...</td>\n      <td>...</td>\n      <td>...</td>\n      <td>...</td>\n      <td>...</td>\n      <td>...</td>\n      <td>...</td>\n      <td>...</td>\n      <td>...</td>\n      <td>...</td>\n      <td>...</td>\n      <td>...</td>\n      <td>...</td>\n    </tr>\n    <tr>\n      <th>834</th>\n      <td>8</td>\n      <td>Class A Common Stock</td>\n      <td>07/02/2021</td>\n      <td>J(1)</td>\n      <td>300000</td>\n      <td>A</td>\n      <td>(1)</td>\n      <td>300000</td>\n      <td>I</td>\n      <td>Held by the Zuriff Family 2020 Trust</td>\n      <td>Chief Strategy Officer</td>\n      <td>Zuriff Laurence</td>\n      <td>XMTR</td>\n    </tr>\n    <tr>\n      <th>835</th>\n      <td>9</td>\n      <td>Class A Common Stock</td>\n      <td>07/02/2021</td>\n      <td>C</td>\n      <td>201176</td>\n      <td>A</td>\n      <td>(3)</td>\n      <td>201176</td>\n      <td>I</td>\n      <td>Held by ZFI Capital,LP.</td>\n      <td>Chief Strategy Officer</td>\n      <td>Zuriff Laurence</td>\n      <td>XMTR</td>\n    </tr>\n    <tr>\n      <th>836</th>\n      <td>0</td>\n      <td>Common Shares</td>\n      <td>07/06/2021</td>\n      <td>A(1)</td>\n      <td>299.0</td>\n      <td>A</td>\n      <td>$29.49</td>\n      <td>10770</td>\n      <td>D</td>\n      <td>NaN</td>\n      <td>Chief Financial Officer</td>\n      <td>Klompas Neil A</td>\n      <td>ZYME</td>\n    </tr>\n    <tr>\n      <th>839</th>\n      <td>1</td>\n      <td>Common Stock</td>\n      <td>07/06/2021</td>\n      <td>S(1)</td>\n      <td>400.0</td>\n      <td>D</td>\n      <td>$275</td>\n      <td>11314</td>\n      <td>I</td>\n      <td>By Trust(2)</td>\n      <td>NaN</td>\n      <td>van Veenendaal Frank</td>\n      <td>COUP</td>\n    </tr>\n    <tr>\n      <th>840</th>\n      <td>2</td>\n      <td>Common Stock</td>\n      <td>07/06/2021</td>\n      <td>S(1)</td>\n      <td>400.0</td>\n      <td>D</td>\n      <td>$275</td>\n      <td>11314</td>\n      <td>I</td>\n      <td>By Trust(2)</td>\n      <td>NaN</td>\n      <td>van Veenendaal Frank</td>\n      <td>COUP</td>\n    </tr>\n  </tbody>\n</table>\n<p>714 rows × 13 columns</p>\n</div>"
     },
     "metadata": {},
     "execution_count": 7
    }
   ],
   "source": [
    "df"
   ]
  },
  {
   "cell_type": "code",
   "execution_count": 8,
   "metadata": {},
   "outputs": [],
   "source": [
    "import re\n",
    "\n",
    "def buy_sell(s):\n",
    "    if s == 'A':\n",
    "        return 'Purchase'\n",
    "    if s == 'D':\n",
    "        return 'Sale'\n",
    "\n",
    "def remove_para(a_string):\n",
    "    return re.sub(r\"\\([^()]*\\)\", \"\", a_string)\n"
   ]
  },
  {
   "cell_type": "code",
   "execution_count": 9,
   "metadata": {},
   "outputs": [],
   "source": [
    "df['Adq or Disp'] = df['Adq or Disp'].apply(buy_sell)"
   ]
  },
  {
   "cell_type": "code",
   "execution_count": 10,
   "metadata": {},
   "outputs": [],
   "source": [
    "df['Price'] = df['Price'].apply(remove_para)\n",
    "df['Amount'] = df['Amount'].apply(remove_para)\n",
    "df['Shares Owned after Trans'] = df['Shares Owned after Trans'].apply(remove_para)"
   ]
  },
  {
   "cell_type": "code",
   "execution_count": 11,
   "metadata": {},
   "outputs": [
    {
     "output_type": "stream",
     "name": "stderr",
     "text": [
      "<ipython-input-11-69f6b5b0be4b>:1: FutureWarning: The default value of regex will change from True to False in a future version. In addition, single character regular expressions will*not* be treated as literal strings when regex=True.\n  df['Price'] = df['Price'].str.replace('$', '')\n"
     ]
    }
   ],
   "source": [
    "df['Price'] = df['Price'].str.replace('$', '')\n",
    "df['Price'] = df['Price'].str.replace(',', '')\n",
    "df['Amount'] = df['Amount'].str.replace(',', '')\n",
    "df['Shares Owned after Trans'] = df['Shares Owned after Trans'].str.replace(',', '')\n",
    "\n",
    "# df.to_csv('CleanInsideTransactionsDF.csv', index=False) "
   ]
  },
  {
   "cell_type": "code",
   "execution_count": 12,
   "metadata": {},
   "outputs": [
    {
     "output_type": "execute_result",
     "data": {
      "text/plain": [
       "     placeholder                 Title Date of Trans Transaction Code  Amount  \\\n",
       "0              0          Common Stock    07/07/2021             J(1)    9095   \n",
       "1              0          Common Stock    07/07/2021                F     924   \n",
       "2              0  Class A Common Stock    07/06/2021                P   29999   \n",
       "3              1  Class A Common Stock    07/06/2021                P    1333   \n",
       "4              2  Class A Common Stock    07/06/2021                P   24344   \n",
       "..           ...                   ...           ...              ...     ...   \n",
       "834            8  Class A Common Stock    07/02/2021             J(1)  300000   \n",
       "835            9  Class A Common Stock    07/02/2021                C  201176   \n",
       "836            0         Common Shares    07/06/2021             A(1)   299.0   \n",
       "839            1          Common Stock    07/06/2021             S(1)   400.0   \n",
       "840            2          Common Stock    07/06/2021             S(1)   400.0   \n",
       "\n",
       "    Adq or Disp  Price Shares Owned after Trans Direct or Indirect Ownershipt  \\\n",
       "0      Purchase    1.3                   133319                             D   \n",
       "1          Sale  37.94                    39666                             D   \n",
       "2      Purchase  33.77                  3636147                             I   \n",
       "3      Purchase  33.77                  3637480                             I   \n",
       "4      Purchase  34.29                  3661824                             I   \n",
       "..          ...    ...                      ...                           ...   \n",
       "834    Purchase                          300000                             I   \n",
       "835    Purchase                          201176                             I   \n",
       "836    Purchase  29.49                    10770                             D   \n",
       "839        Sale    275                    11314                             I   \n",
       "840        Sale    275                    11314                             I   \n",
       "\n",
       "                   Nature of Ind Ownershipt                        position  \\\n",
       "0                                       NaN                             NaN   \n",
       "1                                       NaN   Chief Accounting Officer & VP   \n",
       "2    By Abdiel Qualified Master Fund, LP(1)                             NaN   \n",
       "3                  By Abdiel Capital, LP(1)                             NaN   \n",
       "4    By Abdiel Qualified Master Fund, LP(1)                             NaN   \n",
       "..                                      ...                             ...   \n",
       "834    Held by the Zuriff Family 2020 Trust          Chief Strategy Officer   \n",
       "835                 Held by ZFI Capital,LP.          Chief Strategy Officer   \n",
       "836                                     NaN         Chief Financial Officer   \n",
       "839                             By Trust(2)                             NaN   \n",
       "840                             By Trust(2)                             NaN   \n",
       "\n",
       "                         name_person ticker  \n",
       "0                 PORCELAIN MICHAEL    AIRI  \n",
       "1                     BROWN GARRARD    AVID  \n",
       "2    Abdiel Capital Management, LLC    CRCT  \n",
       "3    Abdiel Capital Management, LLC    CRCT  \n",
       "4    Abdiel Capital Management, LLC    CRCT  \n",
       "..                               ...    ...  \n",
       "834                 Zuriff Laurence    XMTR  \n",
       "835                 Zuriff Laurence    XMTR  \n",
       "836                  Klompas Neil A    ZYME  \n",
       "839            van Veenendaal Frank    COUP  \n",
       "840            van Veenendaal Frank    COUP  \n",
       "\n",
       "[714 rows x 13 columns]"
      ],
      "text/html": "<div>\n<style scoped>\n    .dataframe tbody tr th:only-of-type {\n        vertical-align: middle;\n    }\n\n    .dataframe tbody tr th {\n        vertical-align: top;\n    }\n\n    .dataframe thead th {\n        text-align: right;\n    }\n</style>\n<table border=\"1\" class=\"dataframe\">\n  <thead>\n    <tr style=\"text-align: right;\">\n      <th></th>\n      <th>placeholder</th>\n      <th>Title</th>\n      <th>Date of Trans</th>\n      <th>Transaction Code</th>\n      <th>Amount</th>\n      <th>Adq or Disp</th>\n      <th>Price</th>\n      <th>Shares Owned after Trans</th>\n      <th>Direct or Indirect Ownershipt</th>\n      <th>Nature of Ind Ownershipt</th>\n      <th>position</th>\n      <th>name_person</th>\n      <th>ticker</th>\n    </tr>\n  </thead>\n  <tbody>\n    <tr>\n      <th>0</th>\n      <td>0</td>\n      <td>Common Stock</td>\n      <td>07/07/2021</td>\n      <td>J(1)</td>\n      <td>9095</td>\n      <td>Purchase</td>\n      <td>1.3</td>\n      <td>133319</td>\n      <td>D</td>\n      <td>NaN</td>\n      <td>NaN</td>\n      <td>PORCELAIN MICHAEL</td>\n      <td>AIRI</td>\n    </tr>\n    <tr>\n      <th>1</th>\n      <td>0</td>\n      <td>Common Stock</td>\n      <td>07/07/2021</td>\n      <td>F</td>\n      <td>924</td>\n      <td>Sale</td>\n      <td>37.94</td>\n      <td>39666</td>\n      <td>D</td>\n      <td>NaN</td>\n      <td>Chief Accounting Officer &amp; VP</td>\n      <td>BROWN GARRARD</td>\n      <td>AVID</td>\n    </tr>\n    <tr>\n      <th>2</th>\n      <td>0</td>\n      <td>Class A Common Stock</td>\n      <td>07/06/2021</td>\n      <td>P</td>\n      <td>29999</td>\n      <td>Purchase</td>\n      <td>33.77</td>\n      <td>3636147</td>\n      <td>I</td>\n      <td>By Abdiel Qualified Master Fund, LP(1)</td>\n      <td>NaN</td>\n      <td>Abdiel Capital Management, LLC</td>\n      <td>CRCT</td>\n    </tr>\n    <tr>\n      <th>3</th>\n      <td>1</td>\n      <td>Class A Common Stock</td>\n      <td>07/06/2021</td>\n      <td>P</td>\n      <td>1333</td>\n      <td>Purchase</td>\n      <td>33.77</td>\n      <td>3637480</td>\n      <td>I</td>\n      <td>By Abdiel Capital, LP(1)</td>\n      <td>NaN</td>\n      <td>Abdiel Capital Management, LLC</td>\n      <td>CRCT</td>\n    </tr>\n    <tr>\n      <th>4</th>\n      <td>2</td>\n      <td>Class A Common Stock</td>\n      <td>07/06/2021</td>\n      <td>P</td>\n      <td>24344</td>\n      <td>Purchase</td>\n      <td>34.29</td>\n      <td>3661824</td>\n      <td>I</td>\n      <td>By Abdiel Qualified Master Fund, LP(1)</td>\n      <td>NaN</td>\n      <td>Abdiel Capital Management, LLC</td>\n      <td>CRCT</td>\n    </tr>\n    <tr>\n      <th>...</th>\n      <td>...</td>\n      <td>...</td>\n      <td>...</td>\n      <td>...</td>\n      <td>...</td>\n      <td>...</td>\n      <td>...</td>\n      <td>...</td>\n      <td>...</td>\n      <td>...</td>\n      <td>...</td>\n      <td>...</td>\n      <td>...</td>\n    </tr>\n    <tr>\n      <th>834</th>\n      <td>8</td>\n      <td>Class A Common Stock</td>\n      <td>07/02/2021</td>\n      <td>J(1)</td>\n      <td>300000</td>\n      <td>Purchase</td>\n      <td></td>\n      <td>300000</td>\n      <td>I</td>\n      <td>Held by the Zuriff Family 2020 Trust</td>\n      <td>Chief Strategy Officer</td>\n      <td>Zuriff Laurence</td>\n      <td>XMTR</td>\n    </tr>\n    <tr>\n      <th>835</th>\n      <td>9</td>\n      <td>Class A Common Stock</td>\n      <td>07/02/2021</td>\n      <td>C</td>\n      <td>201176</td>\n      <td>Purchase</td>\n      <td></td>\n      <td>201176</td>\n      <td>I</td>\n      <td>Held by ZFI Capital,LP.</td>\n      <td>Chief Strategy Officer</td>\n      <td>Zuriff Laurence</td>\n      <td>XMTR</td>\n    </tr>\n    <tr>\n      <th>836</th>\n      <td>0</td>\n      <td>Common Shares</td>\n      <td>07/06/2021</td>\n      <td>A(1)</td>\n      <td>299.0</td>\n      <td>Purchase</td>\n      <td>29.49</td>\n      <td>10770</td>\n      <td>D</td>\n      <td>NaN</td>\n      <td>Chief Financial Officer</td>\n      <td>Klompas Neil A</td>\n      <td>ZYME</td>\n    </tr>\n    <tr>\n      <th>839</th>\n      <td>1</td>\n      <td>Common Stock</td>\n      <td>07/06/2021</td>\n      <td>S(1)</td>\n      <td>400.0</td>\n      <td>Sale</td>\n      <td>275</td>\n      <td>11314</td>\n      <td>I</td>\n      <td>By Trust(2)</td>\n      <td>NaN</td>\n      <td>van Veenendaal Frank</td>\n      <td>COUP</td>\n    </tr>\n    <tr>\n      <th>840</th>\n      <td>2</td>\n      <td>Common Stock</td>\n      <td>07/06/2021</td>\n      <td>S(1)</td>\n      <td>400.0</td>\n      <td>Sale</td>\n      <td>275</td>\n      <td>11314</td>\n      <td>I</td>\n      <td>By Trust(2)</td>\n      <td>NaN</td>\n      <td>van Veenendaal Frank</td>\n      <td>COUP</td>\n    </tr>\n  </tbody>\n</table>\n<p>714 rows × 13 columns</p>\n</div>"
     },
     "metadata": {},
     "execution_count": 12
    }
   ],
   "source": [
    "df"
   ]
  },
  {
   "cell_type": "code",
   "execution_count": 13,
   "metadata": {},
   "outputs": [],
   "source": [
    "df.to_csv('CleanInsideTransactionsDF.csv', index=False) "
   ]
  }
 ]
}